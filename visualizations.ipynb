{
 "cells": [
  {
   "cell_type": "markdown",
   "metadata": {},
   "source": [
    "# Med-Signal visualizations\n",
    "This file is generated visually test the **Med-Signal** package and easily see the results and the actions of this package. For more information about **Med-Signal**, please refer to the **[README](../README.md)** file found in the main folder of this repository.\n",
    "\n",
    "## Contents\n",
    "- [Module importation](#module-importation)"
   ]
  },
  {
   "cell_type": "markdown",
   "metadata": {},
   "source": [
    "## Module importation\n",
    "In order to correctly visualize the results of the package, we will need to import the *pyplot* and *pandas* libraries for data visualization and analysis. The **Med-Signal** package will be inported by parts for its separate usage and analysis."
   ]
  },
  {
   "cell_type": "code",
   "execution_count": 1,
   "metadata": {},
   "outputs": [],
   "source": [
    "# Import Med-Signal modules.\n",
    "from medsig.eeg import izhikevich as iz\n",
    "# Import data visualization libraries.\n",
    "from matplotlib import pyplot as plt\n",
    "import pandas as pd"
   ]
  },
  {
   "cell_type": "markdown",
   "metadata": {},
   "source": [
    "## Izhikevich module\n",
    "The *Izhikevich* module provides the tools to correctly simulate an EEG response, based on the Izhikevich equations for neural modeling.\n",
    "\n",
    "### Izhikevich module contents:\n",
    "- [NeuronTypes](#neurontypes-class)"
   ]
  },
  {
   "cell_type": "markdown",
   "metadata": {},
   "source": [
    "### NeuronTypes class:\n",
    "The *NeuronTypes* class provides the information and constants in which the *Neuron* objects will rely to perform their signal computing."
   ]
  },
  {
   "cell_type": "code",
   "execution_count": 2,
   "metadata": {},
   "outputs": [],
   "source": [
    "n_constant_types = iz.NeuronTypes.get_range(\"\")\n",
    "# Some more code to show the NeuronTypes class"
   ]
  },
  {
   "cell_type": "markdown",
   "metadata": {},
   "source": [
    "### Neuron class:\n",
    "Info about the *Neuron* class..."
   ]
  },
  {
   "cell_type": "code",
   "execution_count": 3,
   "metadata": {},
   "outputs": [],
   "source": [
    "# Some code about the Neuron class"
   ]
  },
  {
   "cell_type": "markdown",
   "metadata": {},
   "source": [
    "### Network class:\n",
    "Info about the *Network* class..."
   ]
  },
  {
   "cell_type": "code",
   "execution_count": 16,
   "metadata": {},
   "outputs": [
    {
     "name": "stdout",
     "output_type": "stream",
     "text": [
      "The list of input neurons contains 20 different items.\n",
      "The input length is 20\n",
      "The net object contains 20 labeled neurons.\n",
      "{'n_G', 'n_Q', 'n_Fl', 'n_yi', 'n_l', 'n_E', 'n_vn', 'n_1', 'n_UD', 'n_YR', 'n_JS', 'n_GE', 'n_hF', 'n_aV', 'n_3', 'n_Ej', 'n_h', 'n_T', 'n_AH', 'n_t'}\n"
     ]
    }
   ],
   "source": [
    "# Create a list of unlabeled Neurons in as parameters for the Network.\n",
    "neurons_list = [iz.Neuron(-5*n) for n in range(20)]\n",
    "print(f\"The list of input neurons contains {len(neurons_list)} different items.\")\n",
    "# Create a Network object containing the unlabeled neurons.\n",
    "net = iz.Network(neurons_list)\n",
    "print(f\"The net object contains {net.total_neurons} labeled neurons.\")\n",
    "print(set(net.neurons.keys()))"
   ]
  }
 ],
 "metadata": {
  "kernelspec": {
   "display_name": "Python 3.10.5 ('venv': venv)",
   "language": "python",
   "name": "python3"
  },
  "language_info": {
   "codemirror_mode": {
    "name": "ipython",
    "version": 3
   },
   "file_extension": ".py",
   "mimetype": "text/x-python",
   "name": "python",
   "nbconvert_exporter": "python",
   "pygments_lexer": "ipython3",
   "version": "3.10.5"
  },
  "orig_nbformat": 4,
  "vscode": {
   "interpreter": {
    "hash": "4676324232938d4710e4276510196e10d3369f6af71a5363bf20acc2b6fac08f"
   }
  }
 },
 "nbformat": 4,
 "nbformat_minor": 2
}
